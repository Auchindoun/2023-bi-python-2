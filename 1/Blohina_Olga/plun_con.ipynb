import numpy as np
import matplotlib.pyplot as plt
import ipywidgets as widgets
from ipywidgets import interact
def parameters(u, v, n):
    x = v * np.cos(u)
    y = v * np.sin(u)
    z = np.sin(n * u)
    return x, y, z
def pluc_con(n):
    fig = plt.figure()
    ax = fig.add_subplot(111, projection = '3d')
    u = np.linspace(10, 2 * np.pi, 100)
    v = np.linspace(-100, 100, 100)
    u, v = np.meshgrid(u, v)
    x, y, z = parameters(u, v, n)
    ax.plot_surface(x, y, z, cmap='inferno')
    ax.set_xlabel('X')
    ax.set_ylabel('Y')
    ax.set_zlabel('Z')
    ax.set_title("Plücker's Conoid, n = {}".format(n))
    plt.show()
n_w = widgets.IntSlider(value = 1, min =1 , max = 20, step = 1, description = 'n')
interact(pluc_con, n = n_w)
