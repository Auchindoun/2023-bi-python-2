{
 "cells": [
  {
   "cell_type": "markdown",
   "metadata": {},
   "source": [
    "## TORUS\n",
    "$$\n",
    "\\Large x(\\theta, \\phi) = (R + r \\cos (\\theta)) \\cos (\\phi) \\\\\n",
    "y(\\theta, \\phi) = (R + r \\cos (\\theta)) \\cos (\\phi) \\\\\n",
    "z(\\theta, \\phi) = r \\sin (\\theta) \\\\\n",
    "$$\n",
    "#### where\n",
    "$$\n",
    "\\Large \\theta, \\phi \\in [0, 2 \\pi]\n",
    "$$\n"
   ]
  },
  {
   "cell_type": "markdown",
   "metadata": {},
   "source": [
    "https://en.wikipedia.org/wiki/Torus"
   ]
  },
  {
   "cell_type": "code",
   "execution_count": 13,
   "metadata": {},
   "outputs": [],
   "source": [
    "import numpy as np\n",
    "import matplotlib.pyplot as plt\n",
    "import ipywidgets as widgets"
   ]
  },
  {
   "cell_type": "code",
   "execution_count": 14,
   "metadata": {},
   "outputs": [],
   "source": [
    "def torus(radius1, radius2):\n",
    "    u = np.linspace(0, 2*np.pi, 100)\n",
    "    v = np.linspace(0, 2*np.pi, 100)\n",
    "    U, V = np.meshgrid(u, v)\n",
    "    \n",
    "    x = (radius1 + radius2*np.cos(V)) * np.cos(U)\n",
    "    y = (radius1 + radius2*np.cos(V)) * np.sin(U)\n",
    "    z = radius2 * np.sin(V)\n",
    "    \n",
    "    return x, y, z"
   ]
  },
  {
   "cell_type": "code",
   "execution_count": 15,
   "metadata": {},
   "outputs": [],
   "source": [
    "def plot_torus(radius1, radius2):\n",
    "    x, y, z = torus(radius1, radius2)\n",
    "    \n",
    "    fig = plt.figure()\n",
    "    ax = fig.add_subplot(111, projection='3d')\n",
    "    ax.plot_surface(x, y, z, cmap='viridis')\n",
    "    ax.set_xlabel('X')\n",
    "    ax.set_ylabel('Y')\n",
    "    ax.set_zlabel('Z')\n",
    "    ax.set_title('Torus')\n",
    "    plt.show()"
   ]
  },
  {
   "cell_type": "code",
   "execution_count": null,
   "metadata": {},
   "outputs": [],
   "source": [
    "radius1_slider = widgets.FloatSlider(value=1, min=0.01, max=10.0, step=0.1, description='Major Radius:')\n",
    "radius2_slider = widgets.FloatSlider(value=0.5, min=0.01, max=5.0, step=0.1, description='Minor Radius:')\n",
    "\n",
    "widgets.interactive(plot_torus, radius1=radius1_slider, radius2=radius2_slider)"
   ]
  }
 ],
 "metadata": {
  "kernelspec": {
   "display_name": "Python 3 (ipykernel)",
   "language": "python",
   "name": "python3"
  },
  "language_info": {
   "codemirror_mode": {
    "name": "ipython",
    "version": 3
   },
   "file_extension": ".py",
   "mimetype": "text/x-python",
   "name": "python",
   "nbconvert_exporter": "python",
   "pygments_lexer": "ipython3",
   "version": "3.12.0"
  }
 },
 "nbformat": 4,
 "nbformat_minor": 4
}
